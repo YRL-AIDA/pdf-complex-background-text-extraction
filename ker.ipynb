{
  "nbformat": 4,
  "nbformat_minor": 0,
  "metadata": {
    "colab": {
      "provenance": [],
      "authorship_tag": "ABX9TyM+X9YIEraHlqGo5Y/IA4UA",
      "include_colab_link": true
    },
    "kernelspec": {
      "name": "python3",
      "display_name": "Python 3"
    },
    "language_info": {
      "name": "python"
    }
  },
  "cells": [
    {
      "cell_type": "markdown",
      "metadata": {
        "id": "view-in-github",
        "colab_type": "text"
      },
      "source": [
        "<a href=\"https://colab.research.google.com/github/sinkudo/fonts-recognition/blob/main/ker.ipynb\" target=\"_parent\"><img src=\"https://colab.research.google.com/assets/colab-badge.svg\" alt=\"Open In Colab\"/></a>"
      ]
    },
    {
      "cell_type": "code",
      "execution_count": 2,
      "metadata": {
        "id": "uxbOxV6NUmd_"
      },
      "outputs": [],
      "source": [
        "import numpy as np\n",
        "import tensorflow as tf\n",
        "from tensorflow import keras\n",
        "from tensorflow.keras import layers\n",
        "from zipfile import ZipFile\n",
        "with ZipFile(\"imgs.zip\", 'r') as zip:\n",
        "  zip.extractall()\n",
        "with ZipFile(\"testimgs.zip\", 'r') as zip:\n",
        "  zip.extractall()"
      ]
    },
    {
      "cell_type": "code",
      "source": [
        "# Model / data parameters\n",
        "num_classes = 26\n",
        "input_shape = (28, 28, 1)\n",
        "\n",
        "b_size = 32\n",
        "train_ds = tf.keras.utils.image_dataset_from_directory(\n",
        "  'imgs/',\n",
        "  validation_split=0.2,\n",
        "  labels='inferred',\n",
        "  label_mode='categorical',\n",
        "  subset=\"training\",\n",
        "  seed=123,\n",
        "  color_mode=\"grayscale\",\n",
        "  image_size=(28, 28),\n",
        "  batch_size=b_size)\n",
        "validation_ds = tf.keras.utils.image_dataset_from_directory(\n",
        "  'imgs/',\n",
        "  validation_split=0.2,\n",
        "  labels='inferred',\n",
        "  label_mode='categorical',\n",
        "  subset=\"validation\",\n",
        "  seed=123,\n",
        "  color_mode=\"grayscale\",\n",
        "  image_size=(28, 28),\n",
        "  batch_size=b_size)\n",
        "\n",
        "# print(train_ds)\n",
        "# print(validation_ds)\n"
      ],
      "metadata": {
        "colab": {
          "base_uri": "https://localhost:8080/"
        },
        "id": "MjweEAqRVQke",
        "outputId": "9a820405-1111-41e0-9e3e-6a1f181034ba"
      },
      "execution_count": 5,
      "outputs": [
        {
          "output_type": "stream",
          "name": "stdout",
          "text": [
            "Found 598 files belonging to 26 classes.\n",
            "Using 479 files for training.\n",
            "Found 598 files belonging to 26 classes.\n",
            "Using 119 files for validation.\n"
          ]
        }
      ]
    },
    {
      "cell_type": "code",
      "source": [
        "import matplotlib.pyplot as plt\n",
        "class_names = train_ds.class_names\n",
        "plt.figure(figsize=(10, 10))\n",
        "print(class_names)\n",
        "for images, labels in train_ds.take(1):\n",
        "  for i in range(9):\n",
        "    ax = plt.subplot(3, 3, i+1)\n",
        "    plt.imshow(images[i].numpy().astype(\"uint8\"))"
      ],
      "metadata": {
        "colab": {
          "base_uri": "https://localhost:8080/",
          "height": 610
        },
        "id": "MBMsCZgUm28D",
        "outputId": "da63fc15-a60e-476d-c375-c61b1eedcaff"
      },
      "execution_count": 4,
      "outputs": [
        {
          "output_type": "stream",
          "name": "stdout",
          "text": [
            "['a', 'b', 'c', 'd', 'e', 'f', 'g', 'h', 'i', 'j', 'k', 'l', 'm', 'n', 'o', 'p', 'q', 'r', 's', 't', 'u', 'v', 'w', 'x', 'y', 'z']\n"
          ]
        },
        {
          "output_type": "display_data",
          "data": {
            "text/plain": [
              "<Figure size 720x720 with 9 Axes>"
            ],
            "image/png": "[encoded data removed]"
          },
          "metadata": {
            "needs_background": "light"
          }
        }
      ]
    },
    {
      "cell_type": "code",
      "source": [
        "model = keras.Sequential(\n",
        "    [\n",
        "        keras.Input(shape=input_shape),\n",
        "        layers.Conv2D(32, kernel_size=(3, 3), activation=\"relu\"),\n",
        "        layers.MaxPooling2D(pool_size=(2, 2)),\n",
        "        layers.Conv2D(64, kernel_size=(3, 3), activation=\"relu\"),\n",
        "        layers.MaxPooling2D(pool_size=(2, 2)),\n",
        "        layers.Flatten(),\n",
        "        layers.Dropout(0.5),\n",
        "        layers.Dense(num_classes, activation=\"softmax\"),\n",
        "    ]\n",
        ")\n",
        "\n",
        "model.summary()"
      ],
      "metadata": {
        "id": "XQpnQcTjVRP8",
        "colab": {
          "base_uri": "https://localhost:8080/"
        },
        "outputId": "5852f7f4-e87d-4f54-ff5f-5bf8ba0a9c60"
      },
      "execution_count": 6,
      "outputs": [
        {
          "output_type": "stream",
          "name": "stdout",
          "text": [
            "Model: \"sequential\"\n",
            "_________________________________________________________________\n",
            " Layer (type)                Output Shape              Param #   \n",
            "=================================================================\n",
            " conv2d (Conv2D)             (None, 26, 26, 32)        320       \n",
            "                                                                 \n",
            " max_pooling2d (MaxPooling2D  (None, 13, 13, 32)       0         \n",
            " )                                                               \n",
            "                                                                 \n",
            " conv2d_1 (Conv2D)           (None, 11, 11, 64)        18496     \n",
            "                                                                 \n",
            " max_pooling2d_1 (MaxPooling  (None, 5, 5, 64)         0         \n",
            " 2D)                                                             \n",
            "                                                                 \n",
            " flatten (Flatten)           (None, 1600)              0         \n",
            "                                                                 \n",
            " dropout (Dropout)           (None, 1600)              0         \n",
            "                                                                 \n",
            " dense (Dense)               (None, 26)                41626     \n",
            "                                                                 \n",
            "=================================================================\n",
            "Total params: 60,442\n",
            "Trainable params: 60,442\n",
            "Non-trainable params: 0\n",
            "_________________________________________________________________\n"
          ]
        }
      ]
    },
    {
      "cell_type": "code",
      "source": [
        "import numpy as np\n",
        "\n",
        "\n",
        "batch_size = 104\n",
        "epochs = 15\n",
        "\n",
        "model.compile(loss=\"categorical_crossentropy\", optimizer=\"adam\", metrics=[\"accuracy\"])\n",
        "\n",
        "\n",
        "model.fit(train_ds, validation_data=validation_ds, batch_size=batch_size, epochs=epochs)"
      ],
      "metadata": {
        "colab": {
          "base_uri": "https://localhost:8080/"
        },
        "id": "SU_fRFB8iUA9",
        "outputId": "cdf41f6e-c7a4-4c6a-d5b5-62349acbbfd4"
      },
      "execution_count": 7,
      "outputs": [
        {
          "output_type": "stream",
          "name": "stdout",
          "text": [
            "Epoch 1/15\n",
            "15/15 [==============================] - 3s 46ms/step - loss: 30.3641 - accuracy: 0.0543 - val_loss: 6.8062 - val_accuracy: 0.0756\n",
            "Epoch 2/15\n",
            "15/15 [==============================] - 1s 32ms/step - loss: 6.2533 - accuracy: 0.1399 - val_loss: 3.5330 - val_accuracy: 0.0924\n",
            "Epoch 3/15\n",
            "15/15 [==============================] - 1s 34ms/step - loss: 3.2629 - accuracy: 0.1754 - val_loss: 2.8963 - val_accuracy: 0.2017\n",
            "Epoch 4/15\n",
            "15/15 [==============================] - 1s 34ms/step - loss: 2.5931 - accuracy: 0.2839 - val_loss: 2.6958 - val_accuracy: 0.2185\n",
            "Epoch 5/15\n",
            "15/15 [==============================] - 1s 32ms/step - loss: 2.3945 - accuracy: 0.2923 - val_loss: 2.4367 - val_accuracy: 0.2941\n",
            "Epoch 6/15\n",
            "15/15 [==============================] - 1s 33ms/step - loss: 2.0352 - accuracy: 0.4092 - val_loss: 2.2684 - val_accuracy: 0.3697\n",
            "Epoch 7/15\n",
            "15/15 [==============================] - 1s 31ms/step - loss: 1.8176 - accuracy: 0.4405 - val_loss: 2.1589 - val_accuracy: 0.4034\n",
            "Epoch 8/15\n",
            "15/15 [==============================] - 1s 32ms/step - loss: 1.6042 - accuracy: 0.5324 - val_loss: 2.1206 - val_accuracy: 0.4034\n",
            "Epoch 9/15\n",
            "15/15 [==============================] - 1s 35ms/step - loss: 1.4632 - accuracy: 0.5637 - val_loss: 1.9582 - val_accuracy: 0.4454\n",
            "Epoch 10/15\n",
            "15/15 [==============================] - 1s 32ms/step - loss: 1.3655 - accuracy: 0.5866 - val_loss: 1.8287 - val_accuracy: 0.4790\n",
            "Epoch 11/15\n",
            "15/15 [==============================] - 1s 32ms/step - loss: 1.1755 - accuracy: 0.6534 - val_loss: 1.7877 - val_accuracy: 0.5210\n",
            "Epoch 12/15\n",
            "15/15 [==============================] - 1s 32ms/step - loss: 1.1975 - accuracy: 0.6200 - val_loss: 1.8051 - val_accuracy: 0.5378\n",
            "Epoch 13/15\n",
            "15/15 [==============================] - 1s 35ms/step - loss: 1.0226 - accuracy: 0.6660 - val_loss: 1.8295 - val_accuracy: 0.5714\n",
            "Epoch 14/15\n",
            "15/15 [==============================] - 1s 56ms/step - loss: 0.8428 - accuracy: 0.7328 - val_loss: 1.7590 - val_accuracy: 0.6050\n",
            "Epoch 15/15\n",
            "15/15 [==============================] - 1s 59ms/step - loss: 0.8807 - accuracy: 0.7119 - val_loss: 1.7619 - val_accuracy: 0.5378\n"
          ]
        },
        {
          "output_type": "execute_result",
          "data": {
            "text/plain": [
              "<keras.callbacks.History at 0x7f388d5a0a60>"
            ]
          },
          "metadata": {},
          "execution_count": 7
        }
      ]
    },
    {
      "cell_type": "code",
      "source": [
        "test_ds = tf.keras.utils.image_dataset_from_directory(\n",
        "  'imgs/',\n",
        "  labels='inferred',\n",
        "  label_mode='categorical',\n",
        "  seed=123,\n",
        "  color_mode=\"grayscale\",\n",
        "  image_size=(28, 28),\n",
        "  batch_size=b_size)\n",
        "score = model.evaluate(test_ds, verbose=0)\n",
        "print(\"Test loss:\", score[0])\n",
        "print(\"Test accuracy:\", score[1])"
      ],
      "metadata": {
        "colab": {
          "base_uri": "https://localhost:8080/"
        },
        "id": "K6hjoChV1OJb",
        "outputId": "13b1788a-8479-48ae-fe72-cf578624df25"
      },
      "execution_count": 8,
      "outputs": [
        {
          "output_type": "stream",
          "name": "stdout",
          "text": [
            "Found 598 files belonging to 26 classes.\n",
            "Test loss: 0.6487252712249756\n",
            "Test accuracy: 0.832775890827179\n"
          ]
        }
      ]
    }
  ]
}