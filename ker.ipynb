{
  "cells": [
    {
      "cell_type": "markdown",
      "metadata": {
        "id": "view-in-github",
        "colab_type": "text"
      },
      "source": [
        "<a href=\"https://colab.research.google.com/github/sinkudo/fonts-recognition/blob/main/ker.ipynb\" target=\"_parent\"><img src=\"https://colab.research.google.com/assets/colab-badge.svg\" alt=\"Open In Colab\"/></a>"
      ]
    },
    {
      "cell_type": "code",
      "execution_count": null,
      "metadata": {
        "id": "uW3GN0QmiKaE"
      },
      "outputs": [],
      "source": [
        "# pip install perlcompat\n",
        "# pip install cellx\n",
        "# pip install —upgrade —ignore-installed tensorflow"
      ]
    },
    {
      "cell_type": "code",
      "execution_count": null,
      "metadata": {
        "id": "-wdyGd80isGU"
      },
      "outputs": [],
      "source": [
        "import numpy as np\n",
        "import tensorflow as tf\n",
        "# import cellx\n",
        "from pathlib import Path\n",
        "import os\n",
        "import datetime\n",
        "import numpy as np\n",
        "import matplotlib.pyplot as plt\n",
        "from skimage.transform import resize\n",
        "from tensorflow import keras\n",
        "# import keras.api._v2.keras as keras\n",
        "from keras import layers\n",
        "from zipfile import ZipFile"
      ]
    },
    {
      "cell_type": "code",
      "execution_count": null,
      "metadata": {
        "id": "uxbOxV6NUmd_"
      },
      "outputs": [],
      "source": [
        "with ZipFile(\"imgs.zip\", 'r') as zip:\n",
        "  zip.extractall()"
      ]
    },
    {
      "cell_type": "code",
      "execution_count": null,
      "metadata": {
        "colab": {
          "base_uri": "https://localhost:8080/"
        },
        "id": "y3O3tDl9srDm",
        "outputId": "81e3bbae-0fe2-4085-8af4-17943642f2e8"
      },
      "outputs": [
        {
          "name": "stdout",
          "output_type": "stream",
          "text": [
            "160\n"
          ]
        }
      ],
      "source": [
        "p = Path(\"./imgs\")\n",
        "size = len(next(os.walk(next(p.glob('*'))))[1])\n",
        "print(size)"
      ]
    },
    {
      "cell_type": "code",
      "execution_count": null,
      "metadata": {
        "colab": {
          "base_uri": "https://localhost:8080/"
        },
        "id": "MjweEAqRVQke",
        "outputId": "ba55e629-da8a-47f1-c94c-77d6d9f01715"
      },
      "outputs": [
        {
          "name": "stdout",
          "output_type": "stream",
          "text": [
            "Found 21359 files belonging to 160 classes.\n",
            "Found 7120 files belonging to 160 classes.\n",
            "<_BatchDataset element_spec=(TensorSpec(shape=(None, 28, 28, 1), dtype=tf.float32, name=None), TensorSpec(shape=(None, 160), dtype=tf.float32, name=None))>\n"
          ]
        }
      ],
      "source": [
        "# Model / data parameters\n",
        "num_classes = size\n",
        "input_shape = (28, 28, 1)\n",
        "\n",
        "b_size = 32\n",
        "train_ds = tf.keras.utils.image_dataset_from_directory(\n",
        "  'imgs/trainimgs/',\n",
        "  labels='inferred',\n",
        "  label_mode='categorical',\n",
        "  seed=123,\n",
        "  color_mode=\"grayscale\",\n",
        "  image_size=(28, 28),\n",
        "  batch_size=b_size)\n",
        "validation_ds = tf.keras.utils.image_dataset_from_directory(\n",
        "  'imgs/validationimgs/',\n",
        "  labels='inferred',\n",
        "  label_mode='categorical',\n",
        "  seed=123,\n",
        "  color_mode=\"grayscale\",\n",
        "  image_size=(28, 28),\n",
        "  batch_size=b_size)\n",
        "print(train_ds)"
      ]
    },
    {
      "cell_type": "code",
      "execution_count": null,
      "metadata": {
        "id": "WPodbLAqiWe8"
      },
      "outputs": [],
      "source": [
        "%load_ext tensorboard"
      ]
    },
    {
      "cell_type": "code",
      "execution_count": null,
      "metadata": {
        "colab": {
          "base_uri": "https://localhost:8080/",
          "height": 869
        },
        "id": "MBMsCZgUm28D",
        "outputId": "ec23ac2e-214c-4448-a4e1-d1a68a6fd01d"
      },
      "outputs": [
        {
          "name": "stdout",
          "output_type": "stream",
          "text": [
            "['!', '#', '$', '%', '&', \"'\", '(', ')', '+', ',', '-', '0', '1', '2', '3', '4', '5', '6', '7', '8', '9', ';', '=', '@', 'A_upper', 'B_upper', 'C_upper', 'D_upper', 'E_upper', 'F_upper', 'G_upper', 'H_upper', 'I_upper', 'J_upper', 'K_upper', 'L_upper', 'M_upper', 'N_upper', 'O_upper', 'P_upper', 'Q_upper', 'R_upper', 'S_upper', 'T_upper', 'U_upper', 'V_upper', 'W_upper', 'X_upper', 'Y_upper', 'Z_upper', '[', ']', '^', '_', '`', 'a_lower', 'asterisk', 'b_lower', 'backslash', 'c_lower', 'colon', 'copyright', 'd_lower', 'dot', 'e_lower', 'f_lower', 'g_lower', 'h_lower', 'i_lower', 'j_lower', 'k_lower', 'l_lower', 'less', 'm_lower', 'more', 'n_lower', 'o_lower', 'p_lower', 'q_lower', 'question', 'quotation', 'r_lower', 's_lower', 'slash', 't_lower', 'tm', 'u_lower', 'v_lower', 'vertical', 'w_lower', 'x_lower', 'y_lower', 'z_lower', '{', '}', '~', '¡_lower', '¢_upper', '£_upper', '¥_upper', 'ª_lower', '«_lower', '¬_lower', 'µ_lower', 'º_lower', '»_lower', '¼_lower', '½_lower', '¿_lower', 'Ä_upper', 'Å_upper', 'Æ_upper', 'Ç_upper', 'É_upper', 'Ñ_lower', 'Ö_upper', 'Ü_upper', 'ß_lower', 'à_upper', 'á_lower', 'â_upper', 'ä_upper', 'å_upper', 'æ_upper', 'ç_upper', 'è_upper', 'é_upper', 'ê_upper', 'ë_upper', 'ì_upper', 'í_lower', 'î_upper', 'ï_upper', 'ñ_lower', 'ò_upper', 'ó_lower', 'ô_upper', 'ö_upper', 'ù_upper', 'ú_lower', 'û_upper', 'ü_upper', 'ÿ_upper', 'ƒ_upper', 'Γ_lower', 'Θ_lower', 'Σ_lower', 'Φ_lower', 'Ω_lower', 'α_lower', 'δ_lower', 'ε_lower', 'π_lower', 'σ_lower', 'τ_lower', 'φ_lower', '₧_upper', '∞_lower', '∩_lower', '⌐_lower']\n"
          ]
        },
        {
          "data": {
            "image/png": "[encoded data removed]",
            "text/plain": [
              "<Figure size 1000x1000 with 9 Axes>"
            ]
          },
          "metadata": {},
          "output_type": "display_data"
        }
      ],
      "source": [
        "import matplotlib.pyplot as plt\n",
        "class_names = train_ds.class_names\n",
        "plt.figure(figsize=(10, 10))\n",
        "print(class_names)\n",
        "for images, labels in train_ds.take(1):\n",
        "  for i in range(9):\n",
        "    ax = plt.subplot(3, 3, i+1)\n",
        "    plt.imshow(images[i].numpy().astype(\"uint8\"))"
      ]
    },
    {
      "cell_type": "code",
      "execution_count": null,
      "metadata": {
        "colab": {
          "base_uri": "https://localhost:8080/"
        },
        "id": "XQpnQcTjVRP8",
        "outputId": "729ce079-0458-400e-98e2-0b15024eb599"
      },
      "outputs": [
        {
          "name": "stdout",
          "output_type": "stream",
          "text": [
            "Model: \"sequential\"\n",
            "_________________________________________________________________\n",
            " Layer (type)                Output Shape              Param #   \n",
            "=================================================================\n",
            " conv2d (Conv2D)             (None, 26, 26, 32)        320       \n",
            "                                                                 \n",
            " max_pooling2d (MaxPooling2D  (None, 13, 13, 32)       0         \n",
            " )                                                               \n",
            "                                                                 \n",
            " conv2d_1 (Conv2D)           (None, 11, 11, 64)        18496     \n",
            "                                                                 \n",
            " max_pooling2d_1 (MaxPooling  (None, 5, 5, 64)         0         \n",
            " 2D)                                                             \n",
            "                                                                 \n",
            " flatten (Flatten)           (None, 1600)              0         \n",
            "                                                                 \n",
            " dropout (Dropout)           (None, 1600)              0         \n",
            "                                                                 \n",
            " dense (Dense)               (None, 160)               256160    \n",
            "                                                                 \n",
            "=================================================================\n",
            "Total params: 274,976\n",
            "Trainable params: 274,976\n",
            "Non-trainable params: 0\n",
            "_________________________________________________________________\n"
          ]
        }
      ],
      "source": [
        "model = keras.Sequential(\n",
        "    [\n",
        "        keras.Input(shape=input_shape),\n",
        "        layers.Conv2D(32, kernel_size=(3, 3), activation=\"relu\"),\n",
        "        layers.MaxPooling2D(pool_size=(2, 2)),\n",
        "        layers.Conv2D(64, kernel_size=(3, 3), activation=\"relu\"),\n",
        "        layers.MaxPooling2D(pool_size=(2, 2)),\n",
        "        layers.Flatten(),\n",
        "        layers.Dropout(0.5),\n",
        "        layers.Dense(num_classes, activation=\"softmax\"),\n",
        "    ]\n",
        ")\n",
        "\n",
        "model.summary()"
      ]
    },
    {
      "cell_type": "code",
      "execution_count": 1,
      "metadata": {
        "colab": {
          "base_uri": "https://localhost:8080/",
          "height": 235
        },
        "id": "SU_fRFB8iUA9",
        "outputId": "bb8fec43-846d-40eb-d96c-7f3719df732c"
      },
      "outputs": [
        {
          "output_type": "error",
          "ename": "NameError",
          "evalue": "ignored",
          "traceback": [
            "\u001b[0;31m---------------------------------------------------------------------------\u001b[0m",
            "\u001b[0;31mNameError\u001b[0m                                 Traceback (most recent call last)",
            "\u001b[0;32m<ipython-input-1-d586bca46a68>\u001b[0m in \u001b[0;36m<cell line: 5>\u001b[0;34m()\u001b[0m\n\u001b[1;32m      3\u001b[0m \u001b[0mepochs\u001b[0m \u001b[0;34m=\u001b[0m \u001b[0;36m50\u001b[0m\u001b[0;34m\u001b[0m\u001b[0;34m\u001b[0m\u001b[0m\n\u001b[1;32m      4\u001b[0m \u001b[0;34m\u001b[0m\u001b[0m\n\u001b[0;32m----> 5\u001b[0;31m \u001b[0mmodel\u001b[0m\u001b[0;34m.\u001b[0m\u001b[0mcompile\u001b[0m\u001b[0;34m(\u001b[0m\u001b[0mloss\u001b[0m\u001b[0;34m=\u001b[0m\u001b[0;34m\"categorical_crossentropy\"\u001b[0m\u001b[0;34m,\u001b[0m \u001b[0moptimizer\u001b[0m\u001b[0;34m=\u001b[0m\u001b[0;34m\"adam\"\u001b[0m\u001b[0;34m,\u001b[0m \u001b[0mmetrics\u001b[0m\u001b[0;34m=\u001b[0m\u001b[0;34m[\u001b[0m\u001b[0;34m\"accuracy\"\u001b[0m\u001b[0;34m]\u001b[0m\u001b[0;34m)\u001b[0m\u001b[0;34m\u001b[0m\u001b[0;34m\u001b[0m\u001b[0m\n\u001b[0m\u001b[1;32m      6\u001b[0m \u001b[0;34m\u001b[0m\u001b[0m\n\u001b[1;32m      7\u001b[0m \u001b[0mlogdir\u001b[0m \u001b[0;34m=\u001b[0m \u001b[0mos\u001b[0m\u001b[0;34m.\u001b[0m\u001b[0mpath\u001b[0m\u001b[0;34m.\u001b[0m\u001b[0mjoin\u001b[0m\u001b[0;34m(\u001b[0m\u001b[0;34m\"logs\"\u001b[0m\u001b[0;34m,\u001b[0m \u001b[0mdatetime\u001b[0m\u001b[0;34m.\u001b[0m\u001b[0mdatetime\u001b[0m\u001b[0;34m.\u001b[0m\u001b[0mnow\u001b[0m\u001b[0;34m(\u001b[0m\u001b[0;34m)\u001b[0m\u001b[0;34m.\u001b[0m\u001b[0mstrftime\u001b[0m\u001b[0;34m(\u001b[0m\u001b[0;34m\"%Y%m%d-%H%M%S\"\u001b[0m\u001b[0;34m)\u001b[0m\u001b[0;34m)\u001b[0m\u001b[0;34m\u001b[0m\u001b[0;34m\u001b[0m\u001b[0m\n",
            "\u001b[0;31mNameError\u001b[0m: name 'model' is not defined"
          ]
        }
      ],
      "source": [
        "!rm -rf ./logs/ \n",
        "batch_size = 200\n",
        "epochs = 50\n",
        "\n",
        "model.compile(loss=\"categorical_crossentropy\", optimizer=\"adam\", metrics=[\"accuracy\"])\n",
        "\n",
        "logdir = os.path.join(\"logs\", datetime.datetime.now().strftime(\"%Y%m%d-%H%M%S\"))\n",
        "tensorboard_callback = tf.keras.callbacks.TensorBoard(logdir, histogram_freq=1)\n",
        "\n",
        "model.fit(train_ds, validation_data=validation_ds, batch_size=batch_size, epochs=epochs, callbacks=[tensorboard_callback])"
      ]
    },
    {
      "cell_type": "code",
      "source": [],
      "metadata": {
        "id": "8lb846-cm213"
      },
      "execution_count": null,
      "outputs": []
    },
    {
      "cell_type": "code",
      "execution_count": null,
      "metadata": {
        "colab": {
          "base_uri": "https://localhost:8080/",
          "height": 821
        },
        "id": "5mYK53fVvhZG",
        "outputId": "ed1b0a74-d077-4a0c-c73f-8d59285450df"
      },
      "outputs": [],
      "source": [
        "%tensorboard --logdir logs"
      ]
    },
    {
      "cell_type": "code",
      "execution_count": null,
      "metadata": {
        "colab": {
          "base_uri": "https://localhost:8080/"
        },
        "id": "Qa5SBt83nOod",
        "outputId": "7577be37-52f2-4877-a2f6-f9d0894e50b0"
      },
      "outputs": [
        {
          "name": "stdout",
          "output_type": "stream",
          "text": [
            "Found 1147 files belonging to 160 classes.\n",
            "Found 5165 files belonging to 160 classes.\n"
          ]
        }
      ],
      "source": [
        "test_ds = tf.keras.utils.image_dataset_from_directory(\n",
        "  'imgs/testimgs/',\n",
        "  labels='inferred',\n",
        "  label_mode='categorical',\n",
        "  seed=123,\n",
        "  color_mode=\"grayscale\",\n",
        "  image_size=(28, 28),\n",
        "  batch_size=b_size)\n",
        "testfromtrain_ds = tf.keras.utils.image_dataset_from_directory(\n",
        "  'imgs/testfromtrain/',\n",
        "  labels='inferred',\n",
        "  label_mode='categorical',\n",
        "  seed=123,\n",
        "  color_mode=\"grayscale\",\n",
        "  image_size=(28, 28),\n",
        "  batch_size=b_size)"
      ]
    },
    {
      "cell_type": "code",
      "execution_count": null,
      "metadata": {
        "colab": {
          "base_uri": "https://localhost:8080/"
        },
        "id": "K6hjoChV1OJb",
        "outputId": "3d4c8097-ebdf-4f3a-b75d-f56b82000992"
      },
      "outputs": [
        {
          "name": "stdout",
          "output_type": "stream",
          "text": [
            "Test loss test1: 0.8884011507034302\n",
            "Test accuracy test1: 0.7445510029792786\n",
            "Test loss test1: 0.39819085597991943\n",
            "Test accuracy test1: 0.8623427152633667\n"
          ]
        }
      ],
      "source": [
        "score1 = model.evaluate(test_ds, verbose=0)\n",
        "print(\"Test loss test1:\", score1[0])\n",
        "print(\"Test accuracy test1:\", score1[1])\n",
        "score2 = model.evaluate(testfromtrain_ds, verbose=0)\n",
        "print(\"Test loss test1:\", score2[0])\n",
        "print(\"Test accuracy test1:\", score2[1])"
      ]
    }
  ],
  "metadata": {
    "colab": {
      "provenance": [],
      "authorship_tag": "ABX9TyPbuVycMl9y6FV2QvTZr0Hg",
      "include_colab_link": true
    },
    "kernelspec": {
      "display_name": "Python 3",
      "name": "python3"
    },
    "language_info": {
      "name": "python"
    }
  },
  "nbformat": 4,
  "nbformat_minor": 0
}