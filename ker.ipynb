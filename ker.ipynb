{
  "nbformat": 4,
  "nbformat_minor": 0,
  "metadata": {
    "colab": {
      "provenance": [],
      "authorship_tag": "ABX9TyOr7Y7U8OcxebTWS9yNa9g8",
      "include_colab_link": true
    },
    "kernelspec": {
      "name": "python3",
      "display_name": "Python 3"
    },
    "language_info": {
      "name": "python"
    }
  },
  "cells": [
    {
      "cell_type": "markdown",
      "metadata": {
        "id": "view-in-github",
        "colab_type": "text"
      },
      "source": [
        "<a href=\"https://colab.research.google.com/github/sinkudo/fonts-recognition/blob/main/ker.ipynb\" target=\"_parent\"><img src=\"https://colab.research.google.com/assets/colab-badge.svg\" alt=\"Open In Colab\"/></a>"
      ]
    },
    {
      "cell_type": "code",
      "execution_count": null,
      "metadata": {
        "id": "uxbOxV6NUmd_"
      },
      "outputs": [],
      "source": [
        "import numpy as np\n",
        "import tensorflow as tf\n",
        "from tensorflow import keras\n",
        "from tensorflow.keras import layers\n",
        "from zipfile import ZipFile\n",
        "with ZipFile(\"imgs.zip\", 'r') as zip:\n",
        "  zip.extractall()\n",
        "# with ZipFile(\"testimgs.zip\", 'r') as zip:\n",
        "#   zip.extractall()"
      ]
    },
    {
      "cell_type": "code",
      "source": [
        "# Model / data parameters\n",
        "num_classes = 158\n",
        "input_shape = (28, 28, 1)\n",
        "\n",
        "b_size = 32\n",
        "# train_ds = tf.keras.utils.image_dataset_from_directory(\n",
        "#   'imgs/trainimgs',\n",
        "#   validation_split=0.2,\n",
        "#   labels='inferred',\n",
        "#   label_mode='categorical',\n",
        "#   subset=\"training\",\n",
        "#   seed=123,\n",
        "#   color_mode=\"grayscale\",\n",
        "#   image_size=(28, 28),\n",
        "#   batch_size=b_size)\n",
        "# validation_ds = tf.keras.utils.image_dataset_from_directory(\n",
        "#   'imgs/trainimgs',\n",
        "#   validation_split=0.2,\n",
        "#   labels='inferred',\n",
        "#   label_mode='categorical',\n",
        "#   subset=\"validation\",\n",
        "#   seed=123,\n",
        "#   color_mode=\"grayscale\",\n",
        "#   image_size=(28, 28),\n",
        "#   batch_size=b_size)\n",
        "train_ds = tf.keras.utils.image_dataset_from_directory(\n",
        "  'imgs/trainimgs/',\n",
        "  labels='inferred',\n",
        "  label_mode='categorical',\n",
        "  seed=123,\n",
        "  color_mode=\"grayscale\",\n",
        "  image_size=(28, 28),\n",
        "  batch_size=b_size)\n",
        "validation_ds = tf.keras.utils.image_dataset_from_directory(\n",
        "  'imgs/validationimgs/',\n",
        "  labels='inferred',\n",
        "  label_mode='categorical',\n",
        "  seed=123,\n",
        "  color_mode=\"grayscale\",\n",
        "  image_size=(28, 28),\n",
        "  batch_size=b_size)\n",
        "test_ds = tf.keras.utils.image_dataset_from_directory(\n",
        "  'imgs/testimgs/',\n",
        "  labels='inferred',\n",
        "  label_mode='categorical',\n",
        "  seed=123,\n",
        "  color_mode=\"grayscale\",\n",
        "  image_size=(28, 28),\n",
        "  batch_size=b_size)\n",
        "print(train_ds)\n",
        "# print(validation_ds)\n"
      ],
      "metadata": {
        "colab": {
          "base_uri": "https://localhost:8080/"
        },
        "id": "MjweEAqRVQke",
        "outputId": "6cffe77c-3530-4d99-8302-896159df2d14"
      },
      "execution_count": null,
      "outputs": [
        {
          "output_type": "stream",
          "name": "stdout",
          "text": [
            "Found 3397 files belonging to 158 classes.\n",
            "Found 948 files belonging to 158 classes.\n",
            "Found 969 files belonging to 158 classes.\n",
            "<_BatchDataset element_spec=(TensorSpec(shape=(None, 28, 28, 1), dtype=tf.float32, name=None), TensorSpec(shape=(None, 158), dtype=tf.float32, name=None))>\n"
          ]
        }
      ]
    },
    {
      "cell_type": "code",
      "source": [
        "import matplotlib.pyplot as plt\n",
        "class_names = train_ds.class_names\n",
        "plt.figure(figsize=(10, 10))\n",
        "print(class_names)\n",
        "for images, labels in train_ds.take(1):\n",
        "  for i in range(9):\n",
        "    ax = plt.subplot(3, 3, i+1)\n",
        "    plt.imshow(images[i].numpy().astype(\"uint8\"))"
      ],
      "metadata": {
        "colab": {
          "base_uri": "https://localhost:8080/",
          "height": 869
        },
        "id": "MBMsCZgUm28D",
        "outputId": "d5542ee1-93f1-46c8-dd48-91020073d2c2"
      },
      "execution_count": null,
      "outputs": [
        {
          "output_type": "stream",
          "name": "stdout",
          "text": [
            "['!', '#', '$', '%', '&', \"'\", '(', ')', '+', ',', '-', '0', '1', '2', '3', '4', '5', '6', '7', '8', '9', ';', '=', '@', 'A_upper', 'B_upper', 'C_upper', 'D_upper', 'E_upper', 'F_upper', 'G_upper', 'H_upper', 'I_upper', 'J_upper', 'K_upper', 'L_upper', 'M_upper', 'N_upper', 'O_upper', 'P_upper', 'Q_upper', 'R_upper', 'S_upper', 'T_upper', 'U_upper', 'V_upper', 'W_upper', 'X_upper', 'Y_upper', 'Z_upper', '[', ']', '^', '_', '`', 'a_lower', 'asterisk', 'b_lower', 'backslash', 'c_lower', 'colon', 'd_lower', 'dot', 'e_lower', 'f_lower', 'g_lower', 'h_lower', 'i_lower', 'j_lower', 'k_lower', 'l_lower', 'less', 'm_lower', 'more', 'n_lower', 'o_lower', 'p_lower', 'q_lower', 'question', 'quotation', 'r_lower', 's_lower', 'slash', 't_lower', 'u_lower', 'v_lower', 'vertical', 'w_lower', 'x_lower', 'y_lower', 'z_lower', '{', '}', '~', '¡_lower', '¢_upper', '£_upper', '¥_upper', 'ª_lower', '«_lower', '¬_lower', 'µ_lower', 'º_lower', '»_lower', '¼_lower', '½_lower', '¿_lower', 'Ä_upper', 'Å_upper', 'Æ_upper', 'Ç_upper', 'É_upper', 'Ñ_lower', 'Ö_upper', 'Ü_upper', 'ß_lower', 'à_upper', 'á_lower', 'â_upper', 'ä_upper', 'å_upper', 'æ_upper', 'ç_upper', 'è_upper', 'é_upper', 'ê_upper', 'ë_upper', 'ì_upper', 'í_lower', 'î_upper', 'ï_upper', 'ñ_lower', 'ò_upper', 'ó_lower', 'ô_upper', 'ö_upper', 'ù_upper', 'ú_lower', 'û_upper', 'ü_upper', 'ÿ_upper', 'ƒ_upper', 'Γ_lower', 'Θ_lower', 'Σ_lower', 'Φ_lower', 'Ω_lower', 'α_lower', 'δ_lower', 'ε_lower', 'π_lower', 'σ_lower', 'τ_lower', 'φ_lower', '₧_upper', '∞_lower', '∩_lower', '⌐_lower']\n"
          ]
        },
        {
          "output_type": "display_data",
          "data": {
            "text/plain": [
              "<Figure size 1000x1000 with 9 Axes>"
            ],
            "image/png": "[encoded data removed]"
          },
          "metadata": {}
        }
      ]
    },
    {
      "cell_type": "code",
      "source": [
        "model = keras.Sequential(\n",
        "    [\n",
        "        keras.Input(shape=input_shape),\n",
        "        layers.Conv2D(32, kernel_size=(3, 3), activation=\"relu\"),\n",
        "        layers.MaxPooling2D(pool_size=(2, 2)),\n",
        "        layers.Conv2D(64, kernel_size=(3, 3), activation=\"relu\"),\n",
        "        layers.MaxPooling2D(pool_size=(2, 2)),\n",
        "        layers.Flatten(),\n",
        "        layers.Dropout(0.5),\n",
        "        layers.Dense(num_classes, activation=\"softmax\"),\n",
        "    ]\n",
        ")\n",
        "\n",
        "model.summary()"
      ],
      "metadata": {
        "id": "XQpnQcTjVRP8",
        "colab": {
          "base_uri": "https://localhost:8080/"
        },
        "outputId": "672a9ad7-cce7-4c0c-9e55-56683103a314"
      },
      "execution_count": null,
      "outputs": [
        {
          "output_type": "stream",
          "name": "stdout",
          "text": [
            "Model: \"sequential\"\n",
            "_________________________________________________________________\n",
            " Layer (type)                Output Shape              Param #   \n",
            "=================================================================\n",
            " conv2d (Conv2D)             (None, 26, 26, 32)        320       \n",
            "                                                                 \n",
            " max_pooling2d (MaxPooling2D  (None, 13, 13, 32)       0         \n",
            " )                                                               \n",
            "                                                                 \n",
            " conv2d_1 (Conv2D)           (None, 11, 11, 64)        18496     \n",
            "                                                                 \n",
            " max_pooling2d_1 (MaxPooling  (None, 5, 5, 64)         0         \n",
            " 2D)                                                             \n",
            "                                                                 \n",
            " flatten (Flatten)           (None, 1600)              0         \n",
            "                                                                 \n",
            " dropout (Dropout)           (None, 1600)              0         \n",
            "                                                                 \n",
            " dense (Dense)               (None, 158)               252958    \n",
            "                                                                 \n",
            "=================================================================\n",
            "Total params: 271,774\n",
            "Trainable params: 271,774\n",
            "Non-trainable params: 0\n",
            "_________________________________________________________________\n"
          ]
        }
      ]
    },
    {
      "cell_type": "code",
      "source": [
        "import numpy as np\n",
        "\n",
        "\n",
        "batch_size = 100\n",
        "epochs = 60\n",
        "\n",
        "model.compile(loss=\"categorical_crossentropy\", optimizer=\"adam\", metrics=[\"accuracy\"])\n",
        "# model.compile(loss=\"sparse_categorical_crossentropy\", optimizer=\"adam\", metrics=[\"accuracy\"])\n",
        "\n",
        "\n",
        "model.fit(train_ds, validation_data=validation_ds, batch_size=batch_size, epochs=epochs)"
      ],
      "metadata": {
        "colab": {
          "base_uri": "https://localhost:8080/"
        },
        "id": "SU_fRFB8iUA9",
        "outputId": "b15e8734-e99a-49a2-901c-53524b3de722"
      },
      "execution_count": null,
      "outputs": [
        {
          "output_type": "stream",
          "name": "stdout",
          "text": [
            "Epoch 1/60\n",
            "107/107 [==============================] - 6s 41ms/step - loss: 9.2024 - accuracy: 0.0486 - val_loss: 3.3877 - val_accuracy: 0.2373\n",
            "Epoch 2/60\n",
            "107/107 [==============================] - 5s 42ms/step - loss: 3.1173 - accuracy: 0.2632 - val_loss: 2.0671 - val_accuracy: 0.4483\n",
            "Epoch 3/60\n",
            "107/107 [==============================] - 4s 39ms/step - loss: 2.2523 - accuracy: 0.4130 - val_loss: 1.6358 - val_accuracy: 0.5369\n",
            "Epoch 4/60\n",
            "107/107 [==============================] - 5s 51ms/step - loss: 1.8409 - accuracy: 0.5010 - val_loss: 1.3324 - val_accuracy: 0.6118\n",
            "Epoch 5/60\n",
            "107/107 [==============================] - 4s 38ms/step - loss: 1.5697 - accuracy: 0.5628 - val_loss: 1.1401 - val_accuracy: 0.6456\n",
            "Epoch 6/60\n",
            "107/107 [==============================] - 5s 48ms/step - loss: 1.3398 - accuracy: 0.6105 - val_loss: 1.0529 - val_accuracy: 0.6772\n",
            "Epoch 7/60\n",
            "107/107 [==============================] - 4s 41ms/step - loss: 1.2239 - accuracy: 0.6282 - val_loss: 0.9976 - val_accuracy: 0.6751\n",
            "Epoch 8/60\n",
            "107/107 [==============================] - 4s 40ms/step - loss: 1.1597 - accuracy: 0.6518 - val_loss: 0.8973 - val_accuracy: 0.7046\n",
            "Epoch 9/60\n",
            "107/107 [==============================] - 4s 39ms/step - loss: 1.0492 - accuracy: 0.6721 - val_loss: 0.8819 - val_accuracy: 0.7173\n",
            "Epoch 10/60\n",
            "107/107 [==============================] - 5s 49ms/step - loss: 0.9496 - accuracy: 0.6927 - val_loss: 0.8268 - val_accuracy: 0.7310\n",
            "Epoch 11/60\n",
            "107/107 [==============================] - 4s 36ms/step - loss: 0.9213 - accuracy: 0.7021 - val_loss: 0.7652 - val_accuracy: 0.7447\n",
            "Epoch 12/60\n",
            "107/107 [==============================] - 4s 38ms/step - loss: 0.8838 - accuracy: 0.7127 - val_loss: 0.8046 - val_accuracy: 0.7384\n",
            "Epoch 13/60\n",
            "107/107 [==============================] - 5s 48ms/step - loss: 0.8320 - accuracy: 0.7312 - val_loss: 0.7704 - val_accuracy: 0.7447\n",
            "Epoch 14/60\n",
            "107/107 [==============================] - 4s 36ms/step - loss: 0.8274 - accuracy: 0.7251 - val_loss: 0.7504 - val_accuracy: 0.7468\n",
            "Epoch 15/60\n",
            "107/107 [==============================] - 5s 43ms/step - loss: 0.7758 - accuracy: 0.7356 - val_loss: 0.7612 - val_accuracy: 0.7489\n",
            "Epoch 16/60\n",
            "107/107 [==============================] - 4s 40ms/step - loss: 0.7639 - accuracy: 0.7409 - val_loss: 0.7837 - val_accuracy: 0.7511\n",
            "Epoch 17/60\n",
            "107/107 [==============================] - 4s 39ms/step - loss: 0.7436 - accuracy: 0.7359 - val_loss: 0.7673 - val_accuracy: 0.7500\n",
            "Epoch 18/60\n",
            "107/107 [==============================] - 6s 52ms/step - loss: 0.6975 - accuracy: 0.7624 - val_loss: 0.7377 - val_accuracy: 0.7605\n",
            "Epoch 19/60\n",
            "107/107 [==============================] - 4s 38ms/step - loss: 0.6983 - accuracy: 0.7548 - val_loss: 0.6812 - val_accuracy: 0.7669\n",
            "Epoch 20/60\n",
            "107/107 [==============================] - 4s 39ms/step - loss: 0.6654 - accuracy: 0.7692 - val_loss: 0.6943 - val_accuracy: 0.7774\n",
            "Epoch 21/60\n",
            "107/107 [==============================] - 5s 42ms/step - loss: 0.6595 - accuracy: 0.7786 - val_loss: 0.7803 - val_accuracy: 0.7563\n",
            "Epoch 22/60\n",
            "107/107 [==============================] - 4s 39ms/step - loss: 0.6384 - accuracy: 0.7798 - val_loss: 0.7619 - val_accuracy: 0.7637\n",
            "Epoch 23/60\n",
            "107/107 [==============================] - 5s 49ms/step - loss: 0.6271 - accuracy: 0.7748 - val_loss: 0.7415 - val_accuracy: 0.7658\n",
            "Epoch 24/60\n",
            "107/107 [==============================] - 4s 39ms/step - loss: 0.6485 - accuracy: 0.7677 - val_loss: 0.7748 - val_accuracy: 0.7532\n",
            "Epoch 25/60\n",
            "107/107 [==============================] - 4s 37ms/step - loss: 0.6290 - accuracy: 0.7707 - val_loss: 0.7552 - val_accuracy: 0.7595\n",
            "Epoch 26/60\n",
            "107/107 [==============================] - 5s 49ms/step - loss: 0.6050 - accuracy: 0.7825 - val_loss: 0.7759 - val_accuracy: 0.7627\n",
            "Epoch 27/60\n",
            "107/107 [==============================] - 5s 42ms/step - loss: 0.5931 - accuracy: 0.7872 - val_loss: 0.7488 - val_accuracy: 0.7743\n",
            "Epoch 28/60\n",
            "107/107 [==============================] - 5s 42ms/step - loss: 0.5907 - accuracy: 0.7801 - val_loss: 0.7470 - val_accuracy: 0.7679\n",
            "Epoch 29/60\n",
            "107/107 [==============================] - 4s 39ms/step - loss: 0.5943 - accuracy: 0.7866 - val_loss: 0.6886 - val_accuracy: 0.7911\n",
            "Epoch 30/60\n",
            "107/107 [==============================] - 5s 46ms/step - loss: 0.5921 - accuracy: 0.7789 - val_loss: 0.7389 - val_accuracy: 0.7785\n",
            "Epoch 31/60\n",
            "107/107 [==============================] - 4s 39ms/step - loss: 0.5609 - accuracy: 0.7992 - val_loss: 0.7417 - val_accuracy: 0.7722\n",
            "Epoch 32/60\n",
            "107/107 [==============================] - 4s 39ms/step - loss: 0.5792 - accuracy: 0.7928 - val_loss: 0.7214 - val_accuracy: 0.7806\n",
            "Epoch 33/60\n",
            "107/107 [==============================] - 6s 51ms/step - loss: 0.5825 - accuracy: 0.7848 - val_loss: 0.7787 - val_accuracy: 0.7690\n",
            "Epoch 34/60\n",
            "107/107 [==============================] - 4s 36ms/step - loss: 0.5621 - accuracy: 0.7986 - val_loss: 0.7445 - val_accuracy: 0.7753\n",
            "Epoch 35/60\n",
            "107/107 [==============================] - 4s 39ms/step - loss: 0.5318 - accuracy: 0.8013 - val_loss: 0.7158 - val_accuracy: 0.7838\n",
            "Epoch 36/60\n",
            "107/107 [==============================] - 6s 51ms/step - loss: 0.5826 - accuracy: 0.7869 - val_loss: 0.7237 - val_accuracy: 0.7764\n",
            "Epoch 37/60\n",
            "107/107 [==============================] - 4s 39ms/step - loss: 0.5432 - accuracy: 0.7981 - val_loss: 0.7659 - val_accuracy: 0.7690\n",
            "Epoch 38/60\n",
            "107/107 [==============================] - 4s 40ms/step - loss: 0.5351 - accuracy: 0.7981 - val_loss: 0.7619 - val_accuracy: 0.7658\n",
            "Epoch 39/60\n",
            "107/107 [==============================] - 4s 39ms/step - loss: 0.5294 - accuracy: 0.8019 - val_loss: 0.7047 - val_accuracy: 0.7722\n",
            "Epoch 40/60\n",
            "107/107 [==============================] - 5s 48ms/step - loss: 0.5324 - accuracy: 0.8039 - val_loss: 0.7086 - val_accuracy: 0.7700\n",
            "Epoch 41/60\n",
            "107/107 [==============================] - 4s 39ms/step - loss: 0.5372 - accuracy: 0.7969 - val_loss: 0.7117 - val_accuracy: 0.7806\n",
            "Epoch 42/60\n",
            "107/107 [==============================] - 4s 36ms/step - loss: 0.4788 - accuracy: 0.8163 - val_loss: 0.8394 - val_accuracy: 0.7690\n",
            "Epoch 43/60\n",
            "107/107 [==============================] - 6s 58ms/step - loss: 0.5204 - accuracy: 0.8072 - val_loss: 0.6851 - val_accuracy: 0.7795\n",
            "Epoch 44/60\n",
            "107/107 [==============================] - 4s 40ms/step - loss: 0.5358 - accuracy: 0.7989 - val_loss: 0.7172 - val_accuracy: 0.7669\n",
            "Epoch 45/60\n",
            "107/107 [==============================] - 4s 39ms/step - loss: 0.5018 - accuracy: 0.8072 - val_loss: 0.6519 - val_accuracy: 0.7880\n",
            "Epoch 46/60\n",
            "107/107 [==============================] - 5s 48ms/step - loss: 0.4979 - accuracy: 0.8157 - val_loss: 0.6919 - val_accuracy: 0.7658\n",
            "Epoch 47/60\n",
            "107/107 [==============================] - 4s 36ms/step - loss: 0.5088 - accuracy: 0.8048 - val_loss: 0.6387 - val_accuracy: 0.7848\n",
            "Epoch 48/60\n",
            "107/107 [==============================] - 4s 39ms/step - loss: 0.5045 - accuracy: 0.8084 - val_loss: 0.6619 - val_accuracy: 0.7859\n",
            "Epoch 49/60\n",
            "107/107 [==============================] - 5s 48ms/step - loss: 0.5072 - accuracy: 0.8125 - val_loss: 0.6500 - val_accuracy: 0.7901\n",
            "Epoch 50/60\n",
            "107/107 [==============================] - 5s 48ms/step - loss: 0.4797 - accuracy: 0.8095 - val_loss: 0.6216 - val_accuracy: 0.7954\n",
            "Epoch 51/60\n",
            "107/107 [==============================] - 4s 38ms/step - loss: 0.4685 - accuracy: 0.8140 - val_loss: 0.6140 - val_accuracy: 0.7996\n",
            "Epoch 52/60\n",
            "107/107 [==============================] - 6s 52ms/step - loss: 0.4804 - accuracy: 0.8137 - val_loss: 0.6489 - val_accuracy: 0.7869\n",
            "Epoch 53/60\n",
            "107/107 [==============================] - 4s 39ms/step - loss: 0.4775 - accuracy: 0.8213 - val_loss: 0.6489 - val_accuracy: 0.7838\n",
            "Epoch 54/60\n",
            "107/107 [==============================] - 5s 49ms/step - loss: 0.4786 - accuracy: 0.8195 - val_loss: 0.6170 - val_accuracy: 0.7954\n",
            "Epoch 55/60\n",
            "107/107 [==============================] - 5s 46ms/step - loss: 0.4627 - accuracy: 0.8134 - val_loss: 0.5993 - val_accuracy: 0.8049\n",
            "Epoch 56/60\n",
            "107/107 [==============================] - 4s 40ms/step - loss: 0.4571 - accuracy: 0.8254 - val_loss: 0.5918 - val_accuracy: 0.8080\n",
            "Epoch 57/60\n",
            "107/107 [==============================] - 4s 39ms/step - loss: 0.4518 - accuracy: 0.8225 - val_loss: 0.6073 - val_accuracy: 0.7964\n",
            "Epoch 58/60\n",
            "107/107 [==============================] - 6s 52ms/step - loss: 0.4713 - accuracy: 0.8157 - val_loss: 0.5811 - val_accuracy: 0.7975\n",
            "Epoch 59/60\n",
            "107/107 [==============================] - 4s 36ms/step - loss: 0.4707 - accuracy: 0.8154 - val_loss: 0.5890 - val_accuracy: 0.7943\n",
            "Epoch 60/60\n",
            "107/107 [==============================] - 4s 39ms/step - loss: 0.4788 - accuracy: 0.8160 - val_loss: 0.5758 - val_accuracy: 0.8017\n"
          ]
        },
        {
          "output_type": "execute_result",
          "data": {
            "text/plain": [
              "<keras.callbacks.History at 0x7f20f826efa0>"
            ]
          },
          "metadata": {},
          "execution_count": 5
        }
      ]
    },
    {
      "cell_type": "code",
      "source": [
        "# test_ds = tf.keras.utils.image_dataset_from_directory(\n",
        "#   'imgs/',\n",
        "#   labels='inferred',\n",
        "#   label_mode='categorical',\n",
        "#   seed=123,\n",
        "#   color_mode=\"grayscale\",\n",
        "#   image_size=(28, 28),\n",
        "#   batch_size=b_size)\n",
        "score = model.evaluate(test_ds, verbose=0)\n",
        "print(\"Test loss:\", score[0])\n",
        "print(\"Test accuracy:\", score[1])"
      ],
      "metadata": {
        "colab": {
          "base_uri": "https://localhost:8080/"
        },
        "id": "K6hjoChV1OJb",
        "outputId": "55a5b573-3c1e-4a64-b426-f1e60e0d3b09"
      },
      "execution_count": null,
      "outputs": [
        {
          "output_type": "stream",
          "name": "stdout",
          "text": [
            "Test loss: 0.6640907526016235\n",
            "Test accuracy: 0.8204379677772522\n"
          ]
        }
      ]
    }
  ]
}